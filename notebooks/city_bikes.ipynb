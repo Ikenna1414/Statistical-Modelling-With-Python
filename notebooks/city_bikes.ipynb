{
 "cells": [
  {
   "cell_type": "markdown",
   "metadata": {},
   "source": [
    "# CityBikes"
   ]
  },
  {
   "cell_type": "markdown",
   "metadata": {},
   "source": [
    "Send a request to CityBikes for the city of your choice. "
   ]
  },
  {
   "cell_type": "code",
   "execution_count": 105,
   "metadata": {},
   "outputs": [
    {
     "name": "stdout",
     "output_type": "stream",
     "text": [
      "781\n"
     ]
    }
   ],
   "source": [
    "import requests\n",
    "\n",
    "# Get all available bike locations \n",
    "request_url = \"https://api.citybik.es/v2/networks\"\n",
    "response = requests.get(request_url)\n",
    "data = response.json()\n",
    "\n",
    "print(len(data[\"networks\"]))  \n",
    "\n",
    "#for network in data[\"networks\"]:\n",
    "   # print(network[\"id\"])\n"
   ]
  },
  {
   "cell_type": "code",
   "execution_count": 98,
   "metadata": {},
   "outputs": [],
   "source": [
    "\n",
    "# Get all available bike locations in Abu Dhabi\n",
    "request_url_abu_dhabi = \"https://api.citybik.es/v2/networks/abu-dhabi-careem-bike\"\n",
    "response = requests.get(request_url_abu_dhabi)\n",
    "data_abu_dhabi = response.json()\n",
    "\n",
    "request_url_acces_velo_saguenay = \"https://api.citybik.es/v2/networks/acces-velo-saguenay\"\n",
    "response = requests.get(request_url_acces_velo_saguenay)\n",
    "data_acces_velo_saguenay = response.json()"
   ]
  },
  {
   "cell_type": "markdown",
   "metadata": {},
   "source": [
    "Parse through the response to get the details you want for the bike stations in that city (latitude, longitude, number of bikes). "
   ]
  },
  {
   "cell_type": "code",
   "execution_count": 101,
   "metadata": {},
   "outputs": [
    {
     "name": "stdout",
     "output_type": "stream",
     "text": [
      "Total stations: 22\n",
      "Total stations: 14\n"
     ]
    }
   ],
   "source": [
    "stations_abu = data_abu_dhabi['network']['stations']\n",
    "print(f\"Total stations: {len(stations_abu)}\")\n",
    "\n",
    "stations_acc = data_acces_velo_saguenay['network']['stations']\n",
    "print(f\"Total stations: {len(stations_acc)}\")\n",
    "\n",
    "#print(stations[0]) \n",
    "#print(stations) \n",
    "all_stations = stations_abu + stations_acc"
   ]
  },
  {
   "cell_type": "markdown",
   "metadata": {},
   "source": [
    "Put your parsed results into a DataFrame."
   ]
  },
  {
   "cell_type": "code",
   "execution_count": 104,
   "metadata": {},
   "outputs": [
    {
     "data": {
      "text/html": [
       "<div>\n",
       "<style scoped>\n",
       "    .dataframe tbody tr th:only-of-type {\n",
       "        vertical-align: middle;\n",
       "    }\n",
       "\n",
       "    .dataframe tbody tr th {\n",
       "        vertical-align: top;\n",
       "    }\n",
       "\n",
       "    .dataframe thead th {\n",
       "        text-align: right;\n",
       "    }\n",
       "</style>\n",
       "<table border=\"1\" class=\"dataframe\">\n",
       "  <thead>\n",
       "    <tr style=\"text-align: right;\">\n",
       "      <th></th>\n",
       "      <th>network</th>\n",
       "      <th>name</th>\n",
       "      <th>latitude</th>\n",
       "      <th>longitude</th>\n",
       "      <th>free_bikes</th>\n",
       "      <th>empty_slots</th>\n",
       "      <th>slots</th>\n",
       "      <th>calculated_total</th>\n",
       "    </tr>\n",
       "  </thead>\n",
       "  <tbody>\n",
       "    <tr>\n",
       "      <th>0</th>\n",
       "      <td>abu-dhabi</td>\n",
       "      <td>AUH - Marasy</td>\n",
       "      <td>24.451202</td>\n",
       "      <td>54.334510</td>\n",
       "      <td>0</td>\n",
       "      <td>7</td>\n",
       "      <td>7</td>\n",
       "      <td>7</td>\n",
       "    </tr>\n",
       "    <tr>\n",
       "      <th>1</th>\n",
       "      <td>abu-dhabi</td>\n",
       "      <td>AUH - Al Zeina</td>\n",
       "      <td>24.456953</td>\n",
       "      <td>54.615754</td>\n",
       "      <td>1</td>\n",
       "      <td>14</td>\n",
       "      <td>15</td>\n",
       "      <td>15</td>\n",
       "    </tr>\n",
       "    <tr>\n",
       "      <th>2</th>\n",
       "      <td>abu-dhabi</td>\n",
       "      <td>AUH - ADIA HQ</td>\n",
       "      <td>24.486103</td>\n",
       "      <td>54.350087</td>\n",
       "      <td>4</td>\n",
       "      <td>6</td>\n",
       "      <td>10</td>\n",
       "      <td>10</td>\n",
       "    </tr>\n",
       "    <tr>\n",
       "      <th>3</th>\n",
       "      <td>abu-dhabi</td>\n",
       "      <td>AUH - Al Muneera North</td>\n",
       "      <td>24.452079</td>\n",
       "      <td>54.604651</td>\n",
       "      <td>1</td>\n",
       "      <td>2</td>\n",
       "      <td>3</td>\n",
       "      <td>3</td>\n",
       "    </tr>\n",
       "    <tr>\n",
       "      <th>4</th>\n",
       "      <td>abu-dhabi</td>\n",
       "      <td>AUH - Yas Marina</td>\n",
       "      <td>24.465793</td>\n",
       "      <td>54.609610</td>\n",
       "      <td>1</td>\n",
       "      <td>3</td>\n",
       "      <td>4</td>\n",
       "      <td>4</td>\n",
       "    </tr>\n",
       "  </tbody>\n",
       "</table>\n",
       "</div>"
      ],
      "text/plain": [
       "     network                    name   latitude  longitude  free_bikes  \\\n",
       "0  abu-dhabi            AUH - Marasy  24.451202  54.334510           0   \n",
       "1  abu-dhabi          AUH - Al Zeina  24.456953  54.615754           1   \n",
       "2  abu-dhabi           AUH - ADIA HQ  24.486103  54.350087           4   \n",
       "3  abu-dhabi  AUH - Al Muneera North  24.452079  54.604651           1   \n",
       "4  abu-dhabi        AUH - Yas Marina  24.465793  54.609610           1   \n",
       "\n",
       "   empty_slots  slots  calculated_total  \n",
       "0            7      7                 7  \n",
       "1           14     15                15  \n",
       "2            6     10                10  \n",
       "3            2      3                 3  \n",
       "4            3      4                 4  "
      ]
     },
     "execution_count": 104,
     "metadata": {},
     "output_type": "execute_result"
    }
   ],
   "source": [
    "import requests\n",
    "import pandas as pd\n",
    "\n",
    "for s in stations_abu:\n",
    "    s['network'] = 'abu-dhabi'\n",
    "\n",
    "for s in stations_acc:\n",
    "    s['network'] = 'acces-velo-saguenay'\n",
    "\n",
    "# Build DataFrame\n",
    "df = pd.DataFrame([{\n",
    "    'network': s['network'],\n",
    "    'name': s['name'],\n",
    "    'latitude': s['latitude'],\n",
    "    'longitude': s['longitude'],\n",
    "    'free_bikes': s['free_bikes'],\n",
    "    'empty_slots': s['empty_slots'],\n",
    "    'slots': s.get('extra', {}).get('slots'),\n",
    "    'calculated_total': (s['free_bikes'] or 0) + (s['empty_slots'] or 0)\n",
    "} for s in all_stations])\n",
    "\n",
    "df.head()\n",
    "\n"
   ]
  }
 ],
 "metadata": {
  "kernelspec": {
   "display_name": "base",
   "language": "python",
   "name": "python3"
  },
  "language_info": {
   "codemirror_mode": {
    "name": "ipython",
    "version": 3
   },
   "file_extension": ".py",
   "mimetype": "text/x-python",
   "name": "python",
   "nbconvert_exporter": "python",
   "pygments_lexer": "ipython3",
   "version": "3.9.13"
  }
 },
 "nbformat": 4,
 "nbformat_minor": 4
}
