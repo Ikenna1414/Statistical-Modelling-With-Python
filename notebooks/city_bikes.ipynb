{
 "cells": [
  {
   "cell_type": "markdown",
   "metadata": {},
   "source": [
    "# CityBikes"
   ]
  },
  {
   "cell_type": "markdown",
   "metadata": {},
   "source": [
    "Send a request to CityBikes for the city of your choice. "
   ]
  },
  {
   "cell_type": "code",
   "execution_count": 105,
   "metadata": {},
   "outputs": [
    {
     "name": "stdout",
     "output_type": "stream",
     "text": [
      "781\n"
     ]
    }
   ],
   "source": [
    "import requests\n",
    "\n",
    "# Get all available bike locations \n",
    "request_url = \"https://api.citybik.es/v2/networks\"\n",
    "response = requests.get(request_url)\n",
    "data = response.json()\n",
    "\n",
    "print(len(data[\"networks\"]))  \n",
    "\n",
    "#for network in data[\"networks\"]:\n",
    "   # print(network[\"id\"])\n"
   ]
  },
  {
   "cell_type": "code",
   "execution_count": 98,
   "metadata": {},
   "outputs": [],
   "source": [
    "\n",
    "# Get all available bike locations in Abu Dhabi\n",
    "request_url_abu_dhabi = \"https://api.citybik.es/v2/networks/abu-dhabi-careem-bike\"\n",
    "response = requests.get(request_url_abu_dhabi)\n",
    "data_abu_dhabi = response.json()\n",
    "\n",
    "request_url_acces_velo_saguenay = \"https://api.citybik.es/v2/networks/acces-velo-saguenay\"\n",
    "response = requests.get(request_url_acces_velo_saguenay)\n",
    "data_acces_velo_saguenay = response.json()"
   ]
  },
  {
   "cell_type": "markdown",
   "metadata": {},
   "source": [
    "Parse through the response to get the details you want for the bike stations in that city (latitude, longitude, number of bikes). "
   ]
  },
  {
   "cell_type": "code",
   "execution_count": 101,
   "metadata": {},
   "outputs": [
    {
     "name": "stdout",
     "output_type": "stream",
     "text": [
      "Total stations: 22\n",
      "Total stations: 14\n"
     ]
    }
   ],
   "source": [
    "stations_abu = data_abu_dhabi['network']['stations']\n",
    "print(f\"Total stations: {len(stations_abu)}\")\n",
    "\n",
    "stations_acc = data_acces_velo_saguenay['network']['stations']\n",
    "print(f\"Total stations: {len(stations_acc)}\")\n",
    "\n",
    "#print(stations[0]) \n",
    "#print(stations) \n",
    "all_stations = stations_abu + stations_acc"
   ]
  },
  {
   "cell_type": "markdown",
   "metadata": {},
   "source": [
    "Put your parsed results into a DataFrame."
   ]
  },
  {
   "cell_type": "code",
   "execution_count": 107,
   "metadata": {},
   "outputs": [],
   "source": [
    "import requests\n",
    "import pandas as pd\n",
    "\n",
    "for s in stations_abu:\n",
    "    s['network'] = 'abu-dhabi'\n",
    "\n",
    "for s in stations_acc:\n",
    "    s['network'] = 'acces-velo-saguenay'\n",
    "\n",
    "# Build DataFrame\n",
    "df_stations = pd.DataFrame([{\n",
    "    'network': s['network'],\n",
    "    'name': s['name'],\n",
    "    'latitude': s['latitude'],\n",
    "    'longitude': s['longitude'],\n",
    "    'free_bikes': s['free_bikes'],\n",
    "    'empty_slots': s['empty_slots'],\n",
    "    'slots': s.get('extra', {}).get('slots'),\n",
    "    'calculated_total': (s['free_bikes'] or 0) + (s['empty_slots'] or 0)\n",
    "} for s in all_stations])\n",
    "\n",
    "df_stations.head()\n",
    "\n",
    "\n",
    "df_stations.to_csv(\"bike_stations.csv\", index=False)\n"
   ]
  }
 ],
 "metadata": {
  "kernelspec": {
   "display_name": "base",
   "language": "python",
   "name": "python3"
  },
  "language_info": {
   "codemirror_mode": {
    "name": "ipython",
    "version": 3
   },
   "file_extension": ".py",
   "mimetype": "text/x-python",
   "name": "python",
   "nbconvert_exporter": "python",
   "pygments_lexer": "ipython3",
   "version": "3.9.13"
  }
 },
 "nbformat": 4,
 "nbformat_minor": 4
}
