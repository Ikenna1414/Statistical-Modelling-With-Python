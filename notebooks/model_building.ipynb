{
 "cells": [
  {
   "cell_type": "markdown",
   "metadata": {},
   "source": [
    "Build a regression model."
   ]
  },
  {
   "cell_type": "code",
   "execution_count": null,
   "metadata": {},
   "outputs": [],
   "source": [
    "import sqlite3\n",
    "import pandas as pd\n",
    "import statsmodels.api as sm\n",
    "\n",
    "conn = sqlite3.connect(\"data/bike_project.db\")\n",
    "query = \"\"\"\n",
    "SELECT bs.name AS station, bs.latitude, bs.longitude, bs.slots,\n",
    "       y.total_yelp_venues, y.avg_yelp_rating, y.total_yelp_reviews, y.closest_yelp_distance,\n",
    "       f.total_fsq_venues, distance AS closest_fsq_distance\n",
    "FROM bike_stations bs\n",
    "LEFT JOIN yelp_summary y ON bs.name = y.station\n",
    "LEFT JOIN fsq_summary f ON bs.name = f.station\n",
    "\"\"\"\n",
    "merged_df = pd.read_sql(query, conn)\n",
    "conn.close()\n",
    "\n",
    "merged_df = merged_df.dropna()\n",
    "\n",
    "X = merged_df[[\n",
    "    \"total_yelp_venues\",\n",
    "    \"avg_yelp_rating\",\n",
    "    \"closest_yelp_distance\",\n",
    "    \"total_fsq_venues\",\n",
    "    \"closest_fsq_distance\"\n",
    "]]\n",
    "\n",
    "y = merged_df[\"slots\"]\n",
    "\n",
    "X = sm.add_constant(X)\n",
    "model = sm.OLS(y, X).fit()\n",
    "\n"
   ]
  },
  {
   "cell_type": "markdown",
   "metadata": {},
   "source": [
    "Provide model output and an interpretation of the results. "
   ]
  },
  {
   "cell_type": "code",
   "execution_count": 20,
   "metadata": {},
   "outputs": [
    {
     "name": "stdout",
     "output_type": "stream",
     "text": [
      "                            OLS Regression Results                            \n",
      "==============================================================================\n",
      "Dep. Variable:                  slots   R-squared:                       0.029\n",
      "Model:                            OLS   Adj. R-squared:                  0.025\n",
      "Method:                 Least Squares   F-statistic:                     7.175\n",
      "Date:                Thu, 15 May 2025   Prob (F-statistic):           1.08e-05\n",
      "Time:                        04:30:30   Log-Likelihood:                -3291.2\n",
      "No. Observations:                 961   AIC:                             6592.\n",
      "Df Residuals:                     956   BIC:                             6617.\n",
      "Df Model:                           4                                         \n",
      "Covariance Type:            nonrobust                                         \n",
      "=========================================================================================\n",
      "                            coef    std err          t      P>|t|      [0.025      0.975]\n",
      "-----------------------------------------------------------------------------------------\n",
      "total_yelp_venues        -0.2027      0.545     -0.372      0.710      -1.271       0.866\n",
      "avg_yelp_rating           4.6521      1.216      3.825      0.000       2.265       7.039\n",
      "closest_yelp_distance    -0.0007      0.001     -1.256      0.209      -0.002       0.000\n",
      "total_fsq_venues          0.4719      0.217      2.180      0.030       0.047       0.897\n",
      "closest_fsq_distance     -0.0014      0.001     -0.948      0.343      -0.004       0.001\n",
      "==============================================================================\n",
      "Omnibus:                      523.359   Durbin-Watson:                   1.889\n",
      "Prob(Omnibus):                  0.000   Jarque-Bera (JB):             5686.088\n",
      "Skew:                           2.268   Prob(JB):                         0.00\n",
      "Kurtosis:                      14.020   Cond. No.                     4.43e+03\n",
      "==============================================================================\n",
      "\n",
      "Notes:\n",
      "[1] Standard Errors assume that the covariance matrix of the errors is correctly specified.\n",
      "[2] The condition number is large, 4.43e+03. This might indicate that there are\n",
      "strong multicollinearity or other numerical problems.\n"
     ]
    }
   ],
   "source": [
    "print(model.summary())"
   ]
  },
  {
   "cell_type": "markdown",
   "metadata": {},
   "source": [
    "As observed from the results of the regression model, we have an R-squared value of 2.9% which means that only 2.9% of the variability of our dependent variable can be explained by the independent variables.\n",
    "While the model’s R-squared value of 2.9% indicates very weak explanatory power, this isn’t surprising. The total number of bikes at a station is likely driven more by city planning, infrastructure, and commuting patterns than restaurant density or venue proximity.\n",
    "However, the model still revealed weak but consistent patterns — e.g., stations near denser POI areas tend to be slightly larger. With richer data (e.g., population density, traffic volume), a more predictive model could be built."
   ]
  },
  {
   "cell_type": "markdown",
   "metadata": {},
   "source": [
    "# Stretch"
   ]
  },
  {
   "cell_type": "markdown",
   "metadata": {},
   "source": [
    "How can you turn the regression model into a classification model?"
   ]
  },
  {
   "cell_type": "markdown",
   "metadata": {},
   "source": [
    "To turn the regression problem into a classification problem, we redefine the target variable. Instead of predicting the total number of bikes at a station, we classify whether the station is “high capacity” or “low capacity.” This can be done by applying a threshold (e.g., stations with more than 10 total slots are labeled as 1, the rest as 0).\n",
    "\n",
    "The same POI features (venue counts, ratings, and distances) can be used as inputs. "
   ]
  },
  {
   "cell_type": "code",
   "execution_count": 24,
   "metadata": {},
   "outputs": [
    {
     "name": "stdout",
     "output_type": "stream",
     "text": [
      "Optimization terminated successfully.\n",
      "         Current function value: 0.046135\n",
      "         Iterations 10\n",
      "                           Logit Regression Results                           \n",
      "==============================================================================\n",
      "Dep. Variable:          high_capacity   No. Observations:                  961\n",
      "Model:                          Logit   Df Residuals:                      956\n",
      "Method:                           MLE   Df Model:                            4\n",
      "Date:                Thu, 15 May 2025   Pseudo R-squ.:                  0.4263\n",
      "Time:                        04:34:52   Log-Likelihood:                -44.336\n",
      "converged:                       True   LL-Null:                       -77.281\n",
      "Covariance Type:            nonrobust   LLR p-value:                 1.670e-13\n",
      "=========================================================================================\n",
      "                            coef    std err          z      P>|z|      [0.025      0.975]\n",
      "-----------------------------------------------------------------------------------------\n",
      "total_yelp_venues        -2.0279      0.512     -3.958      0.000      -3.032      -1.024\n",
      "avg_yelp_rating           6.3832      1.351      4.726      0.000       3.736       9.031\n",
      "closest_yelp_distance     0.0002      0.001      0.199      0.843      -0.002       0.002\n",
      "total_fsq_venues         -0.2501      0.377     -0.664      0.507      -0.988       0.488\n",
      "closest_fsq_distance     -0.0006      0.002     -0.309      0.757      -0.004       0.003\n",
      "=========================================================================================\n"
     ]
    }
   ],
   "source": [
    "\n",
    "\n",
    "merged_df[\"high_capacity\"] = (merged_df[\"slots\"] > 10).astype(int)\n",
    "y = merged_df[\"high_capacity\"]\n",
    "\n",
    "X = merged_df[[\n",
    "    \"total_yelp_venues\",\n",
    "    \"avg_yelp_rating\",\n",
    "    \"closest_yelp_distance\",\n",
    "    \"total_fsq_venues\",\n",
    "    \"closest_fsq_distance\"\n",
    "]]\n",
    "\n",
    "X = sm.add_constant(X)\n",
    "logit_model = sm.Logit(y, X).fit()\n",
    "print(logit_model.summary())\n",
    "\n"
   ]
  },
  {
   "cell_type": "markdown",
   "metadata": {},
   "source": [
    "Our logistic regression model predicts whether a bike station is \"high capacity\" (more than 10 docks) based on surrounding POI data.\n",
    "\n",
    "The model performed surprisingly well with a pseudo R-square of 0.426, suggesting POI characteristics can offer meaningful clues about station size. Stations in areas with fewer Yelp venues are more likely to be high-capacity. This may reflect that larger stations are placed in less dense, more open locations (e.g., parks, campuses). Higher average Yelp ratings around a station strongly increase the likelihood of it being high-capacity, possibly indicating upscale or more developed zones. \n",
    "\n",
    "Foursquare-based features were not statistically significant, suggesting Yelp may offer more relevant coverage or better signal for this use case.\n",
    "\n"
   ]
  }
 ],
 "metadata": {
  "kernelspec": {
   "display_name": "base",
   "language": "python",
   "name": "python3"
  },
  "language_info": {
   "codemirror_mode": {
    "name": "ipython",
    "version": 3
   },
   "file_extension": ".py",
   "mimetype": "text/x-python",
   "name": "python",
   "nbconvert_exporter": "python",
   "pygments_lexer": "ipython3",
   "version": "3.9.13"
  }
 },
 "nbformat": 4,
 "nbformat_minor": 4
}
