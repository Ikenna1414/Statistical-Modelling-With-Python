{
 "cells": [
  {
   "cell_type": "code",
   "execution_count": 33,
   "metadata": {},
   "outputs": [
    {
     "name": "stdout",
     "output_type": "stream",
     "text": [
      "{'fsq_id': '5eee3a864f80b40008a49ab4', 'categories': [{'id': 13236, 'name': 'Italian Restaurant', 'short_name': 'Italian', 'plural_name': 'Italian Restaurants', 'icon': {'prefix': 'https://ss3.4sqi.net/img/categories_v2/food/italian_', 'suffix': '.png'}}], 'chains': [], 'closed_bucket': 'VeryLikelyOpen', 'distance': 96, 'geocodes': {'main': {'latitude': 24.452015, 'longitude': 54.334343}}, 'link': '/v3/places/5eee3a864f80b40008a49ab4', 'location': {'address': 'Al Bateen', 'country': 'AE', 'cross_street': '', 'formatted_address': 'Al Bateen, أبوظبي', 'locality': 'أبوظبي', 'region': 'أبوظبي'}, 'name': 'Napo Ristorante', 'related_places': {}, 'timezone': 'Asia/Dubai'}\n"
     ]
    }
   ],
   "source": [
    "\n",
    "import requests\n",
    "import pandas as pd\n",
    "import time\n",
    "\n",
    "df_stations = pd.read_csv(\"bike_stations.csv\")\n",
    "\n",
    "fsquare_api_key = \"fsq3mY8gA3kNr3ohupZu2Q24lP6dQWjWE7gDtfcipnZRMsA=\"\n",
    "\n",
    "headers = {\n",
    "    \"Accept\": \"application/json\",\n",
    "    \"Authorization\": fsquare_api_key\n",
    "}\n",
    "\n",
    "params = {\n",
    "    \"ll\": \"24.451202,54.334510\",  # lat,long\n",
    "    \"radius\": 1000,\n",
    "    \"categories\": \"13065\",  # restaurants\n",
    "    \"limit\": 10\n",
    "}\n",
    "\n",
    "url = \"https://api.foursquare.com/v3/places/search\"\n",
    "response = requests.get(url, headers=headers, params=params)\n",
    "results = response.json()\n",
    "print(results[\"results\"][0])\n",
    "#results"
   ]
  },
  {
   "cell_type": "markdown",
   "metadata": {},
   "source": [
    "# Foursquare"
   ]
  },
  {
   "cell_type": "markdown",
   "metadata": {},
   "source": [
    "Send a request to Foursquare with a small radius (1000m) for all the bike stations in your city of choice. "
   ]
  },
  {
   "cell_type": "code",
   "execution_count": 27,
   "metadata": {},
   "outputs": [],
   "source": [
    "df_stations = pd.read_csv(\"bike_stations.csv\")\n",
    "poi_results = []\n",
    "for index, row in df_stations.iterrows():\n",
    "    lat = row[\"latitude\"]\n",
    "    lon = row[\"longitude\"]\n",
    "    station_name = row[\"name\"]\n",
    "\n",
    "    params = {\n",
    "        \"ll\": f\"{lat},{lon}\",\n",
    "        \"radius\": 1000,\n",
    "        \"categories\": \"13065\",  # Restaurants\n",
    "        \"limit\": 10\n",
    "    }\n",
    "\n",
    "    url = \"https://api.foursquare.com/v3/places/search\"\n",
    "\n",
    "    try:\n",
    "        response = requests.get(url, headers=headers, params=params)\n",
    "        results = response.json()\n",
    "\n",
    "        for place in results.get(\"results\", []):\n",
    "            \n",
    "            poi_results.append({\n",
    "                \"station\": station_name,\n",
    "                \"station_lat\": lat,\n",
    "                \"station_lon\": lon,\n",
    "                \"place_name\": place[\"name\"],\n",
    "                \"category\": place[\"categories\"][0][\"name\"] if place[\"categories\"] else \"Unknown\",\n",
    "                \"distance\": place.get(\"distance\", None),\n",
    "                \"poi_latitude\": place.get(\"geocodes\", {}).get(\"main\", {}).get(\"latitude\"),\n",
    "                \"poi_longitude\": place.get(\"geocodes\", {}).get(\"main\", {}).get(\"longitude\")\n",
    "            })\n",
    "\n",
    "        time.sleep(0.2)  # Respect rate limit\n",
    "    except Exception as e:\n",
    "        print(f\"Failed for station {station_name}: {e}\")"
   ]
  },
  {
   "cell_type": "markdown",
   "metadata": {},
   "source": [
    "Parse through the response to get the POI (such as restaurants, bars, etc) details you want (ratings, name, location, etc)"
   ]
  },
  {
   "cell_type": "code",
   "execution_count": 32,
   "metadata": {},
   "outputs": [],
   "source": [
    "#poi_results\n",
    "#results"
   ]
  },
  {
   "cell_type": "markdown",
   "metadata": {},
   "source": [
    "Put your parsed results into a DataFrame"
   ]
  },
  {
   "cell_type": "code",
   "execution_count": 31,
   "metadata": {},
   "outputs": [
    {
     "data": {
      "text/html": [
       "<div>\n",
       "<style scoped>\n",
       "    .dataframe tbody tr th:only-of-type {\n",
       "        vertical-align: middle;\n",
       "    }\n",
       "\n",
       "    .dataframe tbody tr th {\n",
       "        vertical-align: top;\n",
       "    }\n",
       "\n",
       "    .dataframe thead th {\n",
       "        text-align: right;\n",
       "    }\n",
       "</style>\n",
       "<table border=\"1\" class=\"dataframe\">\n",
       "  <thead>\n",
       "    <tr style=\"text-align: right;\">\n",
       "      <th></th>\n",
       "      <th>station</th>\n",
       "      <th>station_lat</th>\n",
       "      <th>station_lon</th>\n",
       "      <th>place_name</th>\n",
       "      <th>category</th>\n",
       "      <th>distance</th>\n",
       "      <th>poi_latitude</th>\n",
       "      <th>poi_longitude</th>\n",
       "    </tr>\n",
       "  </thead>\n",
       "  <tbody>\n",
       "    <tr>\n",
       "      <th>0</th>\n",
       "      <td>AUH - Marasy</td>\n",
       "      <td>24.451202</td>\n",
       "      <td>54.33451</td>\n",
       "      <td>Napo Ristorante</td>\n",
       "      <td>Italian Restaurant</td>\n",
       "      <td>96</td>\n",
       "      <td>24.452015</td>\n",
       "      <td>54.334343</td>\n",
       "    </tr>\n",
       "    <tr>\n",
       "      <th>1</th>\n",
       "      <td>AUH - Marasy</td>\n",
       "      <td>24.451202</td>\n",
       "      <td>54.33451</td>\n",
       "      <td>The Abu Dhabi EDITION</td>\n",
       "      <td>Restaurant</td>\n",
       "      <td>242</td>\n",
       "      <td>24.451164</td>\n",
       "      <td>54.336928</td>\n",
       "    </tr>\n",
       "    <tr>\n",
       "      <th>2</th>\n",
       "      <td>AUH - Marasy</td>\n",
       "      <td>24.451202</td>\n",
       "      <td>54.33451</td>\n",
       "      <td>Market At Edition</td>\n",
       "      <td>Theme Restaurant</td>\n",
       "      <td>202</td>\n",
       "      <td>24.452274</td>\n",
       "      <td>54.336298</td>\n",
       "    </tr>\n",
       "    <tr>\n",
       "      <th>3</th>\n",
       "      <td>AUH - Marasy</td>\n",
       "      <td>24.451202</td>\n",
       "      <td>54.33451</td>\n",
       "      <td>Tasha's</td>\n",
       "      <td>African Restaurant</td>\n",
       "      <td>556</td>\n",
       "      <td>24.452782</td>\n",
       "      <td>54.339680</td>\n",
       "    </tr>\n",
       "    <tr>\n",
       "      <th>4</th>\n",
       "      <td>AUH - Marasy</td>\n",
       "      <td>24.451202</td>\n",
       "      <td>54.33451</td>\n",
       "      <td>Saddle</td>\n",
       "      <td>Coffee Shop</td>\n",
       "      <td>621</td>\n",
       "      <td>24.453458</td>\n",
       "      <td>54.340019</td>\n",
       "    </tr>\n",
       "  </tbody>\n",
       "</table>\n",
       "</div>"
      ],
      "text/plain": [
       "        station  station_lat  station_lon             place_name  \\\n",
       "0  AUH - Marasy    24.451202     54.33451        Napo Ristorante   \n",
       "1  AUH - Marasy    24.451202     54.33451  The Abu Dhabi EDITION   \n",
       "2  AUH - Marasy    24.451202     54.33451      Market At Edition   \n",
       "3  AUH - Marasy    24.451202     54.33451                Tasha's   \n",
       "4  AUH - Marasy    24.451202     54.33451                 Saddle   \n",
       "\n",
       "             category  distance  poi_latitude  poi_longitude  \n",
       "0  Italian Restaurant        96     24.452015      54.334343  \n",
       "1          Restaurant       242     24.451164      54.336928  \n",
       "2    Theme Restaurant       202     24.452274      54.336298  \n",
       "3  African Restaurant       556     24.452782      54.339680  \n",
       "4         Coffee Shop       621     24.453458      54.340019  "
      ]
     },
     "execution_count": 31,
     "metadata": {},
     "output_type": "execute_result"
    }
   ],
   "source": [
    "df_fsq = pd.DataFrame(poi_results)\n",
    "df_fsq.head()\n",
    "#df_fsq\n",
    "\n"
   ]
  },
  {
   "cell_type": "markdown",
   "metadata": {},
   "source": [
    "# Yelp"
   ]
  },
  {
   "cell_type": "markdown",
   "metadata": {},
   "source": [
    "Send a request to Yelp with a small radius (1000m) for all the bike stations in your city of choice. "
   ]
  },
  {
   "cell_type": "code",
   "execution_count": null,
   "metadata": {},
   "outputs": [],
   "source": []
  },
  {
   "cell_type": "markdown",
   "metadata": {},
   "source": [
    "Parse through the response to get the POI (such as restaurants, bars, etc) details you want (ratings, name, location, etc)"
   ]
  },
  {
   "cell_type": "code",
   "execution_count": null,
   "metadata": {},
   "outputs": [],
   "source": []
  },
  {
   "cell_type": "markdown",
   "metadata": {},
   "source": [
    "Put your parsed results into a DataFrame"
   ]
  },
  {
   "cell_type": "markdown",
   "metadata": {},
   "source": []
  },
  {
   "cell_type": "markdown",
   "metadata": {},
   "source": [
    "# Comparing Results"
   ]
  },
  {
   "cell_type": "markdown",
   "metadata": {},
   "source": [
    "Which API provided you with more complete data? Provide an explanation. "
   ]
  },
  {
   "cell_type": "markdown",
   "metadata": {},
   "source": []
  },
  {
   "cell_type": "markdown",
   "metadata": {},
   "source": [
    "Get the top 10 restaurants according to their rating"
   ]
  },
  {
   "cell_type": "code",
   "execution_count": null,
   "metadata": {},
   "outputs": [],
   "source": []
  }
 ],
 "metadata": {
  "kernelspec": {
   "display_name": "base",
   "language": "python",
   "name": "python3"
  },
  "language_info": {
   "codemirror_mode": {
    "name": "ipython",
    "version": 3
   },
   "file_extension": ".py",
   "mimetype": "text/x-python",
   "name": "python",
   "nbconvert_exporter": "python",
   "pygments_lexer": "ipython3",
   "version": "3.9.13"
  }
 },
 "nbformat": 4,
 "nbformat_minor": 4
}
